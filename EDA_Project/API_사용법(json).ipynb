{
 "cells": [
  {
   "cell_type": "code",
   "execution_count": 9,
   "metadata": {},
   "outputs": [],
   "source": [
    "import requests\n",
    "import json\n",
    "import pandas as pd"
   ]
  },
  {
   "cell_type": "markdown",
   "metadata": {},
   "source": [
    "1. 영준님 올려주신 링크를 타고 들어간 화면에서 **인증키 신청**을 클릭합니다. (로그인 필수)    \n",
    "\n",
    "2. 양식을 채우고 인증키 신청을 누르면 바로 발급됩니다.  \n",
    "\n",
    "3. 상단 메뉴에 있는 나의 화면에 마우스를 올리면 밑에 **인증키 관리** 탭이 뜹니다. 클릭해주세요.  \n",
    "\n",
    "4. 아래로 내리면 발급된 인증키를 확인할 수 있고 **인증키 복사**를 클릭하여 복사합니다.  \n",
    "\n",
    "5. 복사한 인증키를 아래 **key** 변수에 복붙해주세요."
   ]
  },
  {
   "cell_type": "code",
   "execution_count": 2,
   "metadata": {},
   "outputs": [],
   "source": [
    "key = \"6f615952496c686d3130346a6e63436c\"\n",
    "url = f\"http://openapi.seoul.go.kr:8088/{key}/json/bikeList/1/5/\"\n",
    "# 맨 뒤에 1과 5는 데이터가 속한 페이지를 의미합니다. \n",
    "# 이걸 바꾸면 더 많은 데이터를 불러올 수 있습니다.\n",
    "# 자세한 내용은 인증키 신청 버튼 옆에 명세서 다운로드를 클릭하면 볼 수 있습니다."
   ]
  },
  {
   "cell_type": "code",
   "execution_count": 3,
   "metadata": {},
   "outputs": [
    {
     "name": "stdout",
     "output_type": "stream",
     "text": [
      "<Response [200]>\n"
     ]
    }
   ],
   "source": [
    "res=requests.get(url)\n",
    "print(res) # 200이 나오면 잘 연결된 것 입니다."
   ]
  },
  {
   "cell_type": "code",
   "execution_count": 11,
   "metadata": {},
   "outputs": [
    {
     "data": {
      "text/plain": [
       "{'rentBikeStatus': {'list_total_count': 5,\n",
       "  'RESULT': {'CODE': 'INFO-000', 'MESSAGE': '정상 처리되었습니다.'},\n",
       "  'row': [{'rackTotCnt': '22',\n",
       "    'stationName': '102. 망원역 1번출구 앞',\n",
       "    'parkingBikeTotCnt': '0',\n",
       "    'shared': '0',\n",
       "    'stationLatitude': '37.55564880',\n",
       "    'stationLongitude': '126.91062927',\n",
       "    'stationId': 'ST-4'},\n",
       "   {'rackTotCnt': '16',\n",
       "    'stationName': '103. 망원역 2번출구 앞',\n",
       "    'parkingBikeTotCnt': '0',\n",
       "    'shared': '0',\n",
       "    'stationLatitude': '37.55495071',\n",
       "    'stationLongitude': '126.91083527',\n",
       "    'stationId': 'ST-5'},\n",
       "   {'rackTotCnt': '15',\n",
       "    'stationName': '104. 합정역 1번출구 앞',\n",
       "    'parkingBikeTotCnt': '1',\n",
       "    'shared': '0',\n",
       "    'stationLatitude': '37.55062866',\n",
       "    'stationLongitude': '126.91498566',\n",
       "    'stationId': 'ST-6'},\n",
       "   {'rackTotCnt': '7',\n",
       "    'stationName': '105. 합정역 5번출구 앞',\n",
       "    'parkingBikeTotCnt': '0',\n",
       "    'shared': '0',\n",
       "    'stationLatitude': '37.55000687',\n",
       "    'stationLongitude': '126.91482544',\n",
       "    'stationId': 'ST-7'},\n",
       "   {'rackTotCnt': '12',\n",
       "    'stationName': '106. 합정역 7번출구 앞',\n",
       "    'parkingBikeTotCnt': '1',\n",
       "    'shared': '0',\n",
       "    'stationLatitude': '37.54864502',\n",
       "    'stationLongitude': '126.91282654',\n",
       "    'stationId': 'ST-8'}]}}"
      ]
     },
     "execution_count": 11,
     "metadata": {},
     "output_type": "execute_result"
    }
   ],
   "source": [
    "dict1=json.loads(res.text)\n",
    "dict1"
   ]
  },
  {
   "cell_type": "code",
   "execution_count": 18,
   "metadata": {},
   "outputs": [
    {
     "data": {
      "text/html": [
       "<div>\n",
       "<style scoped>\n",
       "    .dataframe tbody tr th:only-of-type {\n",
       "        vertical-align: middle;\n",
       "    }\n",
       "\n",
       "    .dataframe tbody tr th {\n",
       "        vertical-align: top;\n",
       "    }\n",
       "\n",
       "    .dataframe thead th {\n",
       "        text-align: right;\n",
       "    }\n",
       "</style>\n",
       "<table border=\"1\" class=\"dataframe\">\n",
       "  <thead>\n",
       "    <tr style=\"text-align: right;\">\n",
       "      <th></th>\n",
       "      <th>parkingBikeTotCnt</th>\n",
       "      <th>rackTotCnt</th>\n",
       "      <th>shared</th>\n",
       "      <th>stationId</th>\n",
       "      <th>stationLatitude</th>\n",
       "      <th>stationLongitude</th>\n",
       "      <th>stationName</th>\n",
       "    </tr>\n",
       "  </thead>\n",
       "  <tbody>\n",
       "    <tr>\n",
       "      <th>0</th>\n",
       "      <td>0</td>\n",
       "      <td>22</td>\n",
       "      <td>0</td>\n",
       "      <td>ST-4</td>\n",
       "      <td>37.55564880</td>\n",
       "      <td>126.91062927</td>\n",
       "      <td>102. 망원역 1번출구 앞</td>\n",
       "    </tr>\n",
       "    <tr>\n",
       "      <th>1</th>\n",
       "      <td>0</td>\n",
       "      <td>16</td>\n",
       "      <td>0</td>\n",
       "      <td>ST-5</td>\n",
       "      <td>37.55495071</td>\n",
       "      <td>126.91083527</td>\n",
       "      <td>103. 망원역 2번출구 앞</td>\n",
       "    </tr>\n",
       "    <tr>\n",
       "      <th>2</th>\n",
       "      <td>1</td>\n",
       "      <td>15</td>\n",
       "      <td>0</td>\n",
       "      <td>ST-6</td>\n",
       "      <td>37.55062866</td>\n",
       "      <td>126.91498566</td>\n",
       "      <td>104. 합정역 1번출구 앞</td>\n",
       "    </tr>\n",
       "    <tr>\n",
       "      <th>3</th>\n",
       "      <td>0</td>\n",
       "      <td>7</td>\n",
       "      <td>0</td>\n",
       "      <td>ST-7</td>\n",
       "      <td>37.55000687</td>\n",
       "      <td>126.91482544</td>\n",
       "      <td>105. 합정역 5번출구 앞</td>\n",
       "    </tr>\n",
       "    <tr>\n",
       "      <th>4</th>\n",
       "      <td>1</td>\n",
       "      <td>12</td>\n",
       "      <td>0</td>\n",
       "      <td>ST-8</td>\n",
       "      <td>37.54864502</td>\n",
       "      <td>126.91282654</td>\n",
       "      <td>106. 합정역 7번출구 앞</td>\n",
       "    </tr>\n",
       "  </tbody>\n",
       "</table>\n",
       "</div>"
      ],
      "text/plain": [
       "  parkingBikeTotCnt rackTotCnt shared stationId stationLatitude  \\\n",
       "0                 0         22      0      ST-4     37.55564880   \n",
       "1                 0         16      0      ST-5     37.55495071   \n",
       "2                 1         15      0      ST-6     37.55062866   \n",
       "3                 0          7      0      ST-7     37.55000687   \n",
       "4                 1         12      0      ST-8     37.54864502   \n",
       "\n",
       "  stationLongitude      stationName  \n",
       "0     126.91062927  102. 망원역 1번출구 앞  \n",
       "1     126.91083527  103. 망원역 2번출구 앞  \n",
       "2     126.91498566  104. 합정역 1번출구 앞  \n",
       "3     126.91482544  105. 합정역 5번출구 앞  \n",
       "4     126.91282654  106. 합정역 7번출구 앞  "
      ]
     },
     "execution_count": 18,
     "metadata": {},
     "output_type": "execute_result"
    }
   ],
   "source": [
    "pd.DataFrame(dict1['rentBikeStatus'][\"row\"])"
   ]
  },
  {
   "cell_type": "code",
   "execution_count": null,
   "metadata": {},
   "outputs": [],
   "source": []
  }
 ],
 "metadata": {
  "hide_input": false,
  "kernelspec": {
   "display_name": "Python 3",
   "language": "python",
   "name": "python3"
  },
  "language_info": {
   "codemirror_mode": {
    "name": "ipython",
    "version": 3
   },
   "file_extension": ".py",
   "mimetype": "text/x-python",
   "name": "python",
   "nbconvert_exporter": "python",
   "pygments_lexer": "ipython3",
   "version": "3.7.1"
  },
  "varInspector": {
   "cols": {
    "lenName": 16,
    "lenType": 16,
    "lenVar": 40
   },
   "kernels_config": {
    "python": {
     "delete_cmd_postfix": "",
     "delete_cmd_prefix": "del ",
     "library": "var_list.py",
     "varRefreshCmd": "print(var_dic_list())"
    },
    "r": {
     "delete_cmd_postfix": ") ",
     "delete_cmd_prefix": "rm(",
     "library": "var_list.r",
     "varRefreshCmd": "cat(var_dic_list()) "
    }
   },
   "types_to_exclude": [
    "module",
    "function",
    "builtin_function_or_method",
    "instance",
    "_Feature"
   ],
   "window_display": false
  }
 },
 "nbformat": 4,
 "nbformat_minor": 4
}
